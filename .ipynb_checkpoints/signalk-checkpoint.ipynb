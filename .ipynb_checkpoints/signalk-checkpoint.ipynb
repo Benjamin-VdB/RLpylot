{
 "cells": [
  {
   "cell_type": "markdown",
   "metadata": {},
   "source": [
    "## Load libraries \n",
    "(!version for websocket and signalk-client converted to python3)"
   ]
  },
  {
   "cell_type": "code",
   "execution_count": 22,
   "metadata": {},
   "outputs": [],
   "source": [
    "import sys\n",
    "import json\n",
    "import logging\n",
    "import requests\n",
    "import threading\n",
    "import time\n",
    "import websocket # 0.48.0\n",
    "import pkg_resources\n",
    "\n",
    "from signalk_client.client import Client, Data"
   ]
  },
  {
   "cell_type": "code",
   "execution_count": 23,
   "metadata": {},
   "outputs": [],
   "source": [
    "sk_client = Client(server='192.168.0.108:3000')\n",
    "#sk_client = Client(server='demo.signalk.org')"
   ]
  },
  {
   "cell_type": "code",
   "execution_count": null,
   "metadata": {},
   "outputs": [],
   "source": [
    "sk_client.server"
   ]
  },
  {
   "cell_type": "code",
   "execution_count": null,
   "metadata": {},
   "outputs": [],
   "source": [
    "sk_client.data.get_vessels()"
   ]
  },
  {
   "cell_type": "markdown",
   "metadata": {},
   "source": [
    "## Get data for own vessel / available targets"
   ]
  },
  {
   "cell_type": "code",
   "execution_count": null,
   "metadata": {},
   "outputs": [],
   "source": [
    "vessel = sk_client.data.get_self()\n",
    "targets = vessel.get_targets()\n",
    "\n",
    "print(vessel)\n",
    "print(targets)\n",
    "for target in targets:\n",
    "    print(\"-------------------------------------------------------------\")\n",
    "    print(\"target : \", target)\n",
    "    print(\"prop : \", vessel.get_prop(target))\n",
    "    print(\"datum : \", vessel.get_datum(target))\n",
    "    print(\"datum_value : \", vessel.get_datum(target).value)\n",
    "    print(\"datum_display_value : \", vessel.get_datum(target).display_value())\n",
    "    print(\"datum_path : \", vessel.get_datum(target).display_path())\n"
   ]
  },
  {
   "cell_type": "markdown",
   "metadata": {},
   "source": [
    "Get usefull data for the pilot"
   ]
  },
  {
   "cell_type": "code",
   "execution_count": null,
   "metadata": {},
   "outputs": [],
   "source": [
    "vessel = sk_client.data.get_self()\n",
    "print(\"steering angle (rad): \", vessel.get_datum('steering.rudderAngle').value)\n",
    "print(\"SOG (m/s) : \", vessel.get_datum('navigation.speedOverGround').value)\n",
    "print(\"mag heading (rad) : \", vessel.get_datum('navigation.headingMagnetic').value)\n",
    "print(\"mag var (rad) : \", vessel.get_datum('navigation.magneticVariation').value)"
   ]
  },
  {
   "cell_type": "code",
   "execution_count": 51,
   "metadata": {},
   "outputs": [
    {
     "name": "stdout",
     "output_type": "stream",
     "text": [
      "2.5492\n",
      "2019-04-09T02:40:32.175Z\n"
     ]
    },
    {
     "data": {
      "text/plain": [
       "datetime.datetime"
      ]
     },
     "execution_count": 51,
     "metadata": {},
     "output_type": "execute_result"
    }
   ],
   "source": [
    "import datetime as dt\n",
    "vessel = sk_client.data.get_self()\n",
    "print(vessel.get_prop('navigation.headingMagnetic')['value'])\n",
    "print(vessel.get_prop('navigation.headingMagnetic')['timestamp'])\n",
    "time = dt.datetime.strptime(vessel.get_prop('navigation.headingMagnetic')['timestamp'], '%Y-%m-%dT%H:%M:%S.%fZ')\n",
    "type(time)"
   ]
  },
  {
   "cell_type": "code",
   "execution_count": 62,
   "metadata": {},
   "outputs": [
    {
     "name": "stdout",
     "output_type": "stream",
     "text": [
      "2.5317\n",
      "2019-04-09T03:07:27.736Z\n"
     ]
    },
    {
     "ename": "TypeError",
     "evalue": "descriptor 'strftime' requires a 'datetime.date' object but received a 'str'",
     "output_type": "error",
     "traceback": [
      "\u001b[1;31m---------------------------------------------------------------------------\u001b[0m",
      "\u001b[1;31mTypeError\u001b[0m                                 Traceback (most recent call last)",
      "\u001b[1;32m<ipython-input-62-1fb24a83d2c8>\u001b[0m in \u001b[0;36m<module>\u001b[1;34m\u001b[0m\n\u001b[0;32m     30\u001b[0m \u001b[1;33m\u001b[0m\u001b[0m\n\u001b[0;32m     31\u001b[0m \u001b[0ms\u001b[0m\u001b[1;33m.\u001b[0m\u001b[0menter\u001b[0m\u001b[1;33m(\u001b[0m\u001b[1;36m0.5\u001b[0m\u001b[1;33m,\u001b[0m \u001b[1;36m1\u001b[0m\u001b[1;33m,\u001b[0m \u001b[0mget_data_point\u001b[0m\u001b[1;33m,\u001b[0m \u001b[1;33m(\u001b[0m\u001b[0ms\u001b[0m\u001b[1;33m,\u001b[0m\u001b[1;33m)\u001b[0m\u001b[1;33m)\u001b[0m\u001b[1;33m\u001b[0m\u001b[1;33m\u001b[0m\u001b[0m\n\u001b[1;32m---> 32\u001b[1;33m \u001b[0ms\u001b[0m\u001b[1;33m.\u001b[0m\u001b[0mrun\u001b[0m\u001b[1;33m(\u001b[0m\u001b[1;33m)\u001b[0m\u001b[1;33m\u001b[0m\u001b[1;33m\u001b[0m\u001b[0m\n\u001b[0m",
      "\u001b[1;32mc:\\users\\ben.vdb\\.conda\\envs\\rlpilot\\lib\\sched.py\u001b[0m in \u001b[0;36mrun\u001b[1;34m(self, blocking)\u001b[0m\n\u001b[0;32m    152\u001b[0m                 \u001b[0mdelayfunc\u001b[0m\u001b[1;33m(\u001b[0m\u001b[0mtime\u001b[0m \u001b[1;33m-\u001b[0m \u001b[0mnow\u001b[0m\u001b[1;33m)\u001b[0m\u001b[1;33m\u001b[0m\u001b[1;33m\u001b[0m\u001b[0m\n\u001b[0;32m    153\u001b[0m             \u001b[1;32melse\u001b[0m\u001b[1;33m:\u001b[0m\u001b[1;33m\u001b[0m\u001b[1;33m\u001b[0m\u001b[0m\n\u001b[1;32m--> 154\u001b[1;33m                 \u001b[0maction\u001b[0m\u001b[1;33m(\u001b[0m\u001b[1;33m*\u001b[0m\u001b[0margument\u001b[0m\u001b[1;33m,\u001b[0m \u001b[1;33m**\u001b[0m\u001b[0mkwargs\u001b[0m\u001b[1;33m)\u001b[0m\u001b[1;33m\u001b[0m\u001b[1;33m\u001b[0m\u001b[0m\n\u001b[0m\u001b[0;32m    155\u001b[0m                 \u001b[0mdelayfunc\u001b[0m\u001b[1;33m(\u001b[0m\u001b[1;36m0\u001b[0m\u001b[1;33m)\u001b[0m   \u001b[1;31m# Let other threads run\u001b[0m\u001b[1;33m\u001b[0m\u001b[1;33m\u001b[0m\u001b[0m\n\u001b[0;32m    156\u001b[0m \u001b[1;33m\u001b[0m\u001b[0m\n",
      "\u001b[1;32m<ipython-input-62-1fb24a83d2c8>\u001b[0m in \u001b[0;36mget_data_point\u001b[1;34m(sc)\u001b[0m\n\u001b[0;32m     22\u001b[0m \u001b[1;31m#     if vessel.get_prop('navigation.courseOverGroundTrue')['timestamp'] != time[i]:\u001b[0m\u001b[1;33m\u001b[0m\u001b[1;33m\u001b[0m\u001b[1;33m\u001b[0m\u001b[0m\n\u001b[0;32m     23\u001b[0m     \u001b[0mdata\u001b[0m\u001b[1;33m.\u001b[0m\u001b[0mappend\u001b[0m\u001b[1;33m(\u001b[0m\u001b[0mvessel\u001b[0m\u001b[1;33m.\u001b[0m\u001b[0mget_prop\u001b[0m\u001b[1;33m(\u001b[0m\u001b[0mpath\u001b[0m\u001b[1;33m)\u001b[0m\u001b[1;33m[\u001b[0m\u001b[1;34m'value'\u001b[0m\u001b[1;33m]\u001b[0m\u001b[1;33m)\u001b[0m\u001b[1;33m\u001b[0m\u001b[1;33m\u001b[0m\u001b[0m\n\u001b[1;32m---> 24\u001b[1;33m     \u001b[0mtime\u001b[0m\u001b[1;33m.\u001b[0m\u001b[0mappend\u001b[0m\u001b[1;33m(\u001b[0m\u001b[0mdt\u001b[0m\u001b[1;33m.\u001b[0m\u001b[0mdatetime\u001b[0m\u001b[1;33m.\u001b[0m\u001b[0mstrftime\u001b[0m\u001b[1;33m(\u001b[0m\u001b[0mvessel\u001b[0m\u001b[1;33m.\u001b[0m\u001b[0mget_prop\u001b[0m\u001b[1;33m(\u001b[0m\u001b[0mpath\u001b[0m\u001b[1;33m)\u001b[0m\u001b[1;33m[\u001b[0m\u001b[1;34m'timestamp'\u001b[0m\u001b[1;33m]\u001b[0m\u001b[1;33m,\u001b[0m \u001b[1;34m'%Y-%m-%dT%H:%M:%S.%fZ'\u001b[0m\u001b[1;33m)\u001b[0m\u001b[1;33m)\u001b[0m\u001b[1;33m\u001b[0m\u001b[1;33m\u001b[0m\u001b[0m\n\u001b[0m\u001b[0;32m     25\u001b[0m \u001b[1;33m\u001b[0m\u001b[0m\n\u001b[0;32m     26\u001b[0m     \u001b[0mdatadot\u001b[0m\u001b[1;33m.\u001b[0m\u001b[0mappend\u001b[0m\u001b[1;33m(\u001b[0m\u001b[1;33m)\u001b[0m\u001b[1;33m\u001b[0m\u001b[1;33m\u001b[0m\u001b[0m\n",
      "\u001b[1;31mTypeError\u001b[0m: descriptor 'strftime' requires a 'datetime.date' object but received a 'str'"
     ]
    }
   ],
   "source": [
    "vessel = sk_client.data.get_self()\n",
    "\n",
    "import sched, time\n",
    "import datetime as dt\n",
    "\n",
    "s = sched.scheduler(time.time, time.sleep)\n",
    "path = 'navigation.headingMagnetic'\n",
    "# path = 'steering.rudderAngle'\n",
    "# path = 'navigation.speedOverGround'\n",
    "# path = 'environment.wind.angleApparent'\n",
    "# path = 'environment.wind.speedApparent'\n",
    "data = []\n",
    "datadot = []\n",
    "time = []\n",
    "i = 0\n",
    "\n",
    "\n",
    "def get_data_point(sc): \n",
    "    # do your stuff\n",
    "    print(vessel.get_prop(path)['value'])\n",
    "    print(vessel.get_prop(path)['timestamp'])\n",
    "#     if vessel.get_prop('navigation.courseOverGroundTrue')['timestamp'] != time[i]:\n",
    "    data.append(vessel.get_prop(path)['value'])\n",
    "    time.append(dt.datetime.stpftime(vessel.get_prop(path)['timestamp'], '%Y-%m-%dT%H:%M:%S.%fZ'))\n",
    "    \n",
    "    datadot.append()\n",
    "#         i += 1\n",
    "#         print(i)\n",
    "    s.enter(0.5, 1, get_data_point, (sc,))\n",
    "\n",
    "s.enter(0.5, 1, get_data_point, (s,))\n",
    "s.run()"
   ]
  },
  {
   "cell_type": "code",
   "execution_count": 55,
   "metadata": {},
   "outputs": [
    {
     "data": {
      "image/png": "[encoded data removed]",
      "text/plain": [
       "<Figure size 432x288 with 1 Axes>"
      ]
     },
     "metadata": {
      "needs_background": "light"
     },
     "output_type": "display_data"
    }
   ],
   "source": [
    "import matplotlib.pyplot as plt\n",
    "\n",
    "# Create figure for plotting\n",
    "fig = plt.figure()\n",
    "ax = fig.add_subplot(1, 1, 1)\n",
    "# Draw plot\n",
    "ax.plot(time, data)\n",
    "\n",
    "# Format plot\n",
    "plt.xticks(rotation=45, ha='right')\n",
    "plt.subplots_adjust(bottom=0.30)\n",
    "plt.title('data')\n",
    "plt.ylabel('data')\n",
    "\n",
    "# Draw the graph\n",
    "plt.show()"
   ]
  },
  {
   "cell_type": "code",
   "execution_count": 61,
   "metadata": {},
   "outputs": [
    {
     "data": {
      "text/plain": [
       "datetime.timedelta(-1, 86395, 551000)"
      ]
     },
     "execution_count": 61,
     "metadata": {},
     "output_type": "execute_result"
    }
   ],
   "source": [
    "time[1] - time[10]"
   ]
  },
  {
   "cell_type": "code",
   "execution_count": null,
   "metadata": {},
   "outputs": [],
   "source": [
    "import datetime as dt\n",
    "import matplotlib.pyplot as plt\n",
    "import matplotlib.animation as animation\n",
    "\n",
    "# define path\n",
    "path = 'navigation.headingMagnetic'\n",
    "# path = 'steering.rudderAngle'\n",
    "# path = 'navigation.speedOverGround'\n",
    "# path = 'environment.wind.angleApparent'\n",
    "# path = 'environment.wind.speedApparent'\n",
    "\n",
    "# Create figure for plotting\n",
    "fig = plt.figure()\n",
    "ax = fig.add_subplot(1, 1, 1)\n",
    "time = []\n",
    "data = []\n",
    "\n",
    "# init vessel comm \n",
    "vessel = sk_client.data.get_self()\n",
    "\n",
    "# This function is called periodically from FuncAnimation\n",
    "def animate(i, time, data):\n",
    "\n",
    "    # Add x and y to lists\n",
    "    data.append(vessel.get_prop(path)['value'])\n",
    "    time.append(vessel.get_prop(path)['timestamp'])\n",
    "\n",
    "    # Limit x and y lists to 20 items\n",
    "    time = time[-20:]\n",
    "    data = data[-20:]\n",
    "\n",
    "    # Draw x and y lists\n",
    "    ax.clear()\n",
    "    ax.plot(time, data)\n",
    "\n",
    "    # Format plot\n",
    "    plt.xticks(rotation=45, ha='right')\n",
    "    plt.subplots_adjust(bottom=0.30)\n",
    "    plt.title('data over Time')\n",
    "    plt.ylabel('data')\n",
    "\n",
    "# Set up plot to call animate() function periodically\n",
    "ani = animation.FuncAnimation(fig, animate, fargs=(time, data), interval=1000)\n",
    "plt.show()\n"
   ]
  },
  {
   "cell_type": "code",
   "execution_count": null,
   "metadata": {},
   "outputs": [],
   "source": [
    "sk_client.close()"
   ]
  },
  {
   "cell_type": "code",
   "execution_count": null,
   "metadata": {},
   "outputs": [],
   "source": []
  },
  {
   "cell_type": "code",
   "execution_count": null,
   "metadata": {},
   "outputs": [],
   "source": []
  },
  {
   "cell_type": "code",
   "execution_count": null,
   "metadata": {},
   "outputs": [],
   "source": []
  }
 ],
 "metadata": {
  "kernelspec": {
   "display_name": "Python 3",
   "language": "python",
   "name": "python3"
  },
  "language_info": {
   "codemirror_mode": {
    "name": "ipython",
    "version": 3
   },
   "file_extension": ".py",
   "mimetype": "text/x-python",
   "name": "python",
   "nbconvert_exporter": "python",
   "pygments_lexer": "ipython3",
   "version": "3.6.8"
  }
 },
 "nbformat": 4,
 "nbformat_minor": 2
}
